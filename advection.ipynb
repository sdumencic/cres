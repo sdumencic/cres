{
 "cells": [
  {
   "cell_type": "code",
   "execution_count": 1,
   "id": "26bd43b9",
   "metadata": {},
   "outputs": [
    {
     "name": "stdout",
     "output_type": "stream",
     "text": [
      "Contents of the file:\n",
      "drifter_location: [[ -911.01162983 -2511.06679744]\n",
      " [ 1976.71933891   -21.71958459]\n",
      " [-1683.26151621 -2267.04101382]\n",
      " [ 1430.65886364 -1536.54268901]\n",
      " [-1574.80510935 -2614.84786301]\n",
      " [ 2119.95574427   202.48482505]\n",
      " [ -508.77579466 -3355.66594215]\n",
      " [ -183.34149605 -3584.06265483]\n",
      " [ 1725.24927935 -2763.06020184]\n",
      " [ -744.92678569 -1058.82970725]\n",
      " [  567.62787275 -4238.882646  ]\n",
      " [  900.96630539  -449.2079605 ]]\n",
      "12\n"
     ]
    }
   ],
   "source": [
    "import numpy as np\n",
    "\n",
    "# Load the .npz file\n",
    "file_path = 'C:/Users/stella/Documents/cres/marker_advection/advection_results_dir/advected_marker_locations_1.npz'\n",
    "data = np.load(file_path)\n",
    "\n",
    "# Print the contents of the .npz file\n",
    "print(\"Contents of the file:\")\n",
    "for key in data.files:\n",
    "    print(f\"{key}: {data[key]}\")\n",
    "    print(len(data[key]))"
   ]
  },
  {
   "cell_type": "code",
   "execution_count": 7,
   "id": "32c1796f",
   "metadata": {},
   "outputs": [
    {
     "name": "stdout",
     "output_type": "stream",
     "text": [
      "Contents of the file:\n",
      "time_step: 9000\n",
      "drifter_location: [[ -940.58919331 -2457.33794419]\n",
      " [ 1883.28188046    51.66677278]\n",
      " [-1704.93268217 -2199.18488471]\n",
      " [ 1381.45366047 -1503.67111616]\n",
      " [-1574.95844902 -2614.33261137]\n",
      " [ 2119.88431657   202.52034143]\n",
      " [ -509.06904424 -3355.4958044 ]\n",
      " [ -219.46820799 -3576.7040058 ]\n",
      " [ 1724.47203127 -2762.85934607]\n",
      " [ -782.85789467  -986.47896604]\n",
      " [  541.33474509 -4254.113502  ]\n",
      " [  827.43698533  -372.24086101]]\n",
      "drifter_velocity: [[ 0.17018319 -0.25772685]\n",
      " [ 0.04601298 -0.22758796]\n",
      " [ 0.06471458 -0.13524288]\n",
      " [ 0.02306677 -0.21513101]\n",
      " [ 0.01913254 -0.16270174]\n",
      " [ 0.03260153  0.03782049]\n",
      " [ 0.69233131 -0.73596008]\n",
      " [ 0.05285261 -0.00827827]\n",
      " [ 0.06824536 -0.09380335]\n",
      " [-0.02779611 -0.32225867]\n",
      " [ 0.06302483 -0.10153063]\n",
      " [-0.04856572 -0.30734517]]\n"
     ]
    }
   ],
   "source": [
    "import numpy as np\n",
    "\n",
    "# Load the .npz file\n",
    "file_path = 'C:/Users/stella/Documents/cres/marker_advection/data_dir/drifter_measurements_time_step_9000.npz'\n",
    "data = np.load(file_path)\n",
    "\n",
    "# Print the contents of the .npz file\n",
    "print(\"Contents of the file:\")\n",
    "for key in data.files:\n",
    "    print(f\"{key}: {data[key]}\")"
   ]
  },
  {
   "cell_type": "code",
   "execution_count": 1,
   "id": "025809da",
   "metadata": {},
   "outputs": [
    {
     "name": "stdout",
     "output_type": "stream",
     "text": [
      "(17.804513965495445, 109.91055600063166)\n"
     ]
    }
   ],
   "source": [
    "import math\n",
    "\n",
    "LAT_ref, LON_ref = 44.952006, 14.364774\n",
    "\n",
    "def convert_to_local_coordinates(latitude, longitude):\n",
    "    lat_diff = latitude - LAT_ref\n",
    "    lon_diff = longitude - LON_ref\n",
    "    lat_to_m = 110574\n",
    "    lon_to_m = 111320 * math.cos(math.radians(LAT_ref))\n",
    "    x = lon_diff * lon_to_m\n",
    "    y = lat_diff * lat_to_m\n",
    "    return x, y\n",
    "\n",
    "print(convert_to_local_coordinates(44.953, 14.365))"
   ]
  },
  {
   "cell_type": "code",
   "execution_count": null,
   "id": "c84fd31a",
   "metadata": {},
   "outputs": [],
   "source": [
    "from marker_advection.advect_marker_locations import advect_marker_locations\n",
    "import keyboard\n",
    "import time\n",
    "\n",
    "data_dir = f'D:/cres/marker_advection/target_dir' # measurements in npz format\n",
    "case_dir = f'D:/cres/marker_advection/template_dir/case_Cres' # OpenFOAM case\n",
    "advection_results_dir = f'D:/cres/marker_advection/advection_results_dir' # advected marker locations\n",
    "advection_time_step = 600 # desired advection time step\n",
    "\n",
    "gaussian_noise=False\n",
    "\n",
    "name = 0\n",
    "print(\"Press 'Esc' to exit the loop.\")\n",
    "\n",
    "while not keyboard.is_pressed('esc'):    \n",
    "\n",
    "    advect_marker_locations(case_dir, advection_time_step, data_dir, advection_results_dir, name)\n",
    "    name = name + 1\n",
    "    time.sleep(10)"
   ]
  }
 ],
 "metadata": {
  "kernelspec": {
   "display_name": "Python 3",
   "language": "python",
   "name": "python3"
  },
  "language_info": {
   "codemirror_mode": {
    "name": "ipython",
    "version": 3
   },
   "file_extension": ".py",
   "mimetype": "text/x-python",
   "name": "python",
   "nbconvert_exporter": "python",
   "pygments_lexer": "ipython3",
   "version": "3.11.5"
  }
 },
 "nbformat": 4,
 "nbformat_minor": 5
}
