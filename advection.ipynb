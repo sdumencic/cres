{
 "cells": [
  {
   "cell_type": "code",
   "execution_count": 20,
   "id": "26bd43b9",
   "metadata": {},
   "outputs": [
    {
     "name": "stdout",
     "output_type": "stream",
     "text": [
      "Contents of the file:\n",
      "drifter_location: [[ -911.01162983 -2511.06679744]\n",
      " [ 1976.71933891   -21.71958459]\n",
      " [-1683.26151621 -2267.04101382]\n",
      " [ 1430.65886364 -1536.54268901]\n",
      " [-1574.80510935 -2614.84786301]\n",
      " [ 2119.95574427   202.48482505]\n",
      " [ -508.77579466 -3355.66594215]\n",
      " [ -183.34149605 -3584.06265483]\n",
      " [ 1725.24927935 -2763.06020184]\n",
      " [ -744.92678569 -1058.82970725]\n",
      " [  567.62787275 -4238.882646  ]\n",
      " [  900.96630539  -449.2079605 ]]\n",
      "12\n"
     ]
    }
   ],
   "source": [
    "import numpy as np\n",
    "\n",
    "# Load the .npz file\n",
    "file_path = 'D:/cres/marker_advection/advection_results_dir/advected_marker_locations_600.npz'\n",
    "data = np.load(file_path)\n",
    "\n",
    "# Print the contents of the .npz file\n",
    "print(\"Contents of the file:\")\n",
    "for key in data.files:\n",
    "    print(f\"{key}: {data[key]}\")\n",
    "    print(len(data[key]))"
   ]
  },
  {
   "cell_type": "code",
   "execution_count": 8,
   "id": "025809da",
   "metadata": {},
   "outputs": [
    {
     "name": "stdout",
     "output_type": "stream",
     "text": [
      "(17.804513965495445, 109.91055600063166)\n"
     ]
    }
   ],
   "source": [
    "import math\n",
    "\n",
    "LAT_ref, LON_ref = 44.952006, 14.364774\n",
    "\n",
    "def convert_to_local_coordinates(latitude, longitude):\n",
    "    lat_diff = latitude - LAT_ref\n",
    "    lon_diff = longitude - LON_ref\n",
    "    lat_to_m = 110574\n",
    "    lon_to_m = 111320 * math.cos(math.radians(LAT_ref))\n",
    "    x = lon_diff * lon_to_m\n",
    "    y = lat_diff * lat_to_m\n",
    "    return x, y\n",
    "\n",
    "print(convert_to_local_coordinates(44.953, 14.365))"
   ]
  }
 ],
 "metadata": {
  "kernelspec": {
   "display_name": "base",
   "language": "python",
   "name": "python3"
  },
  "language_info": {
   "codemirror_mode": {
    "name": "ipython",
    "version": 3
   },
   "file_extension": ".py",
   "mimetype": "text/x-python",
   "name": "python",
   "nbconvert_exporter": "python",
   "pygments_lexer": "ipython3",
   "version": "3.12.7"
  }
 },
 "nbformat": 4,
 "nbformat_minor": 5
}
